{
 "cells": [
  {
   "cell_type": "code",
   "execution_count": 1,
   "id": "5fedb631",
   "metadata": {},
   "outputs": [],
   "source": [
    "#RBF"
   ]
  },
  {
   "cell_type": "code",
   "execution_count": 7,
   "id": "5197c327",
   "metadata": {},
   "outputs": [],
   "source": [
    "import numpy as np\n",
    "import pandas as pd\n",
    "from sklearn.preprocessing import LabelEncoder\n",
    "from sklearn.preprocessing import StandardScaler\n",
    "from sklearn.cluster import KMeans\n",
    "from sklearn.model_selection import train_test_split"
   ]
  },
  {
   "cell_type": "code",
   "execution_count": 11,
   "id": "60e09100",
   "metadata": {},
   "outputs": [
    {
     "name": "stdout",
     "output_type": "stream",
     "text": [
      "     Pregnancies  Glucose  BloodPressure  SkinThickness  Insulin   BMI  \\\n",
      "0              6      148             72             35        0  33.6   \n",
      "1              1       85             66             29        0  26.6   \n",
      "2              8      183             64              0        0  23.3   \n",
      "3              1       89             66             23       94  28.1   \n",
      "4              0      137             40             35      168  43.1   \n",
      "..           ...      ...            ...            ...      ...   ...   \n",
      "763           10      101             76             48      180  32.9   \n",
      "764            2      122             70             27        0  36.8   \n",
      "765            5      121             72             23      112  26.2   \n",
      "766            1      126             60              0        0  30.1   \n",
      "767            1       93             70             31        0  30.4   \n",
      "\n",
      "     DiabetesPedigreeFunction  Age  Outcome  \n",
      "0                       0.627   50        1  \n",
      "1                       0.351   31        0  \n",
      "2                       0.672   32        1  \n",
      "3                       0.167   21        0  \n",
      "4                       2.288   33        1  \n",
      "..                        ...  ...      ...  \n",
      "763                     0.171   63        0  \n",
      "764                     0.340   27        0  \n",
      "765                     0.245   30        0  \n",
      "766                     0.349   47        1  \n",
      "767                     0.315   23        0  \n",
      "\n",
      "[768 rows x 9 columns]\n"
     ]
    }
   ],
   "source": [
    "data=pd.read_csv(\"C:/Users/Qureshi/OneDrive/Desktop/diabetes.csv\")\n",
    "print(data)"
   ]
  },
  {
   "cell_type": "code",
   "execution_count": 12,
   "id": "e8e73c8c",
   "metadata": {},
   "outputs": [],
   "source": [
    "#labelling the data\n",
    "le=LabelEncoder()"
   ]
  },
  {
   "cell_type": "code",
   "execution_count": 15,
   "id": "8f8c7cac",
   "metadata": {},
   "outputs": [
    {
     "name": "stdout",
     "output_type": "stream",
     "text": [
      "     Pregnancies  Glucose  BloodPressure  SkinThickness  Insulin   BMI  \\\n",
      "0              6      148             72             35        0  33.6   \n",
      "1              1       85             66             29        0  26.6   \n",
      "2              8      183             64              0        0  23.3   \n",
      "3              1       89             66             23       94  28.1   \n",
      "4              0      137             40             35      168  43.1   \n",
      "..           ...      ...            ...            ...      ...   ...   \n",
      "763           10      101             76             48      180  32.9   \n",
      "764            2      122             70             27        0  36.8   \n",
      "765            5      121             72             23      112  26.2   \n",
      "766            1      126             60              0        0  30.1   \n",
      "767            1       93             70             31        0  30.4   \n",
      "\n",
      "     DiabetesPedigreeFunction  Age  Outcome  Preg  Preg_n  Gluc_n  BP_n  ST_n  \\\n",
      "0                       0.627   50        1     6       6      86    22    28   \n",
      "1                       0.351   31        0     1       1      23    19    22   \n",
      "2                       0.672   32        1     8       8     121    17     0   \n",
      "3                       0.167   21        0     1       1      27    19    16   \n",
      "4                       2.288   33        1     0       0      75     4    28   \n",
      "..                        ...  ...      ...   ...     ...     ...   ...   ...   \n",
      "763                     0.171   63        0    10      10      39    25    41   \n",
      "764                     0.340   27        0     2       2      60    21    20   \n",
      "765                     0.245   30        0     5       5      59    22    16   \n",
      "766                     0.349   47        1     1       1      64    14     0   \n",
      "767                     0.315   23        0     1       1      31    21    24   \n",
      "\n",
      "     Ins_n  BMI_n  DPF_n  Age_n  Outcome_n  \n",
      "0        0    123    350     29          1  \n",
      "1        0     62    196     10          0  \n",
      "2        0     30    368     11          1  \n",
      "3       62     77     53      0          0  \n",
      "4      102    209    514     12          1  \n",
      "..     ...    ...    ...    ...        ...  \n",
      "763    108    118     55     42          0  \n",
      "764      0    155    187      6          0  \n",
      "765     71     58    115      9          0  \n",
      "766      0     95    195     26          1  \n",
      "767      0     98    169      2          0  \n",
      "\n",
      "[768 rows x 19 columns]\n"
     ]
    }
   ],
   "source": [
    "data['Preg_n']=le.fit_transform(data['Pregnancies'])\n",
    "data['Gluc_n']=le.fit_transform(data['Glucose'])\n",
    "data['BP_n']=le.fit_transform(data['BloodPressure'])\n",
    "data['ST_n']=le.fit_transform(data['SkinThickness'])\n",
    "data['Ins_n']=le.fit_transform(data['Insulin'])\n",
    "data['BMI_n']=le.fit_transform(data['BMI'])\n",
    "data['DPF_n']=le.fit_transform(data['DiabetesPedigreeFunction'])\n",
    "data['Age_n']=le.fit_transform(data['Age'])\n",
    "data['Outcome_n']=le.fit_transform(data['Outcome'])\n",
    "print(data)"
   ]
  },
  {
   "cell_type": "code",
   "execution_count": 16,
   "id": "05a61e98",
   "metadata": {},
   "outputs": [
    {
     "name": "stdout",
     "output_type": "stream",
     "text": [
      "     Preg  Preg_n  Gluc_n  BP_n  ST_n  Ins_n  BMI_n  DPF_n  Age_n  Outcome_n\n",
      "0       6       6      86    22    28      0    123    350     29          1\n",
      "1       1       1      23    19    22      0     62    196     10          0\n",
      "2       8       8     121    17     0      0     30    368     11          1\n",
      "3       1       1      27    19    16     62     77     53      0          0\n",
      "4       0       0      75     4    28    102    209    514     12          1\n",
      "..    ...     ...     ...   ...   ...    ...    ...    ...    ...        ...\n",
      "763    10      10      39    25    41    108    118     55     42          0\n",
      "764     2       2      60    21    20      0    155    187      6          0\n",
      "765     5       5      59    22    16     71     58    115      9          0\n",
      "766     1       1      64    14     0      0     95    195     26          1\n",
      "767     1       1      31    21    24      0     98    169      2          0\n",
      "\n",
      "[768 rows x 10 columns]\n"
     ]
    }
   ],
   "source": [
    "df=data.drop(['Pregnancies','Glucose','BloodPressure','SkinThickness','Insulin','BMI','DiabetesPedigreeFunction','Age','Outcome'],axis='columns')\n",
    "print(df)"
   ]
  },
  {
   "cell_type": "code",
   "execution_count": 17,
   "id": "59f95131",
   "metadata": {},
   "outputs": [],
   "source": [
    "x=df.drop('Outcome_n',axis=1)\n",
    "y=df['Outcome_n']"
   ]
  },
  {
   "cell_type": "code",
   "execution_count": 18,
   "id": "c1616f77",
   "metadata": {},
   "outputs": [],
   "source": [
    "x_train, x_test, y_train, y_test = train_test_split(x,y,test_size=0.3)"
   ]
  },
  {
   "cell_type": "code",
   "execution_count": 19,
   "id": "30e1d68e",
   "metadata": {},
   "outputs": [],
   "source": [
    "scaler= StandardScaler()\n",
    "scaler.fit(x_train)\n",
    "x_train= scaler.transform(x_train)\n",
    "x_test= scaler.transform(x_test)"
   ]
  },
  {
   "cell_type": "code",
   "execution_count": 26,
   "id": "b41244a6",
   "metadata": {},
   "outputs": [],
   "source": [
    "column = df.shape[1]"
   ]
  },
  {
   "cell_type": "code",
   "execution_count": 39,
   "id": "17c3601e",
   "metadata": {},
   "outputs": [
    {
     "name": "stdout",
     "output_type": "stream",
     "text": [
      "[[-0.4295367  -0.4295367  -0.48238562 -0.12401934 -0.5173439  -0.38181317\n",
      "  -0.77004249 -0.76806263 -0.61152793]\n",
      " [ 0.49635101  0.49635101  0.78467515  0.83814375 -0.88397715 -0.78889525\n",
      "   0.10661077 -0.29989731  1.1488244 ]\n",
      " [-0.63310852 -0.63310852 -0.58042289 -0.21488866 -0.22107234  0.08869649\n",
      "  -0.421577    1.08454043 -0.6371483 ]\n",
      " [-0.59345552 -0.59345552  0.91822181  0.14347488  0.82369738  1.45217096\n",
      "   0.60895147  0.23468708 -0.35610176]\n",
      " [-0.5555075  -0.5555075  -0.60485412  0.09611255  1.11379882 -0.23246018\n",
      "   0.8395075  -0.25244062 -0.4821198 ]\n",
      " [ 1.75478962  1.75478962 -0.36398274  0.2152864  -0.36175753 -0.6656634\n",
      "  -0.01700417  0.10294573  0.73430083]\n",
      " [-0.37652393 -0.37652393 -0.11617393 -2.10106088 -1.10860647 -0.74670193\n",
      "  -0.59301341 -0.15455533 -0.08008369]\n",
      " [ 1.17697352  1.17697352  0.69755785  0.40569425  0.83532784  0.98146076\n",
      "   0.27807824  0.2357562   1.15226764]]\n"
     ]
    }
   ],
   "source": [
    "K_cent= 8\n",
    "km= KMeans(n_clusters= K_cent, max_iter= 100)\n",
    "km.fit(x_train)\n",
    "cent= km.cluster_centers_\n",
    "print(cent)"
   ]
  },
  {
   "cell_type": "code",
   "execution_count": 40,
   "id": "a44fd79d",
   "metadata": {},
   "outputs": [],
   "source": [
    "import math\n",
    "max=0 \n",
    "for i in range(K_cent):\n",
    "    for j in range(K_cent):\n",
    "        d= np.linalg.norm(cent[i]-cent[j])\n",
    "        if(d> max):\n",
    "            max= d\n",
    "d= max\n",
    "sigma= d/math.sqrt(2*K_cent)"
   ]
  },
  {
   "cell_type": "code",
   "execution_count": 42,
   "id": "66c4bc4b",
   "metadata": {},
   "outputs": [
    {
     "name": "stdout",
     "output_type": "stream",
     "text": [
      "1.1447693482301542\n"
     ]
    }
   ],
   "source": [
    "print(sigma)"
   ]
  },
  {
   "cell_type": "code",
   "execution_count": 46,
   "id": "f3fe5ab2",
   "metadata": {},
   "outputs": [],
   "source": [
    "# find the G matrix \n",
    "# which consists of the gaussian function with respect to the input "
   ]
  },
  {
   "cell_type": "code",
   "execution_count": 45,
   "id": "1d213b0d",
   "metadata": {},
   "outputs": [],
   "source": [
    "shape= x_train.shape\n",
    "row= shape[0]\n",
    "column= K_cent\n",
    "G= np.empty((row,column), dtype= float)\n",
    "for i in range(row):\n",
    " for j in range(column):\n",
    "  dist= np.linalg.norm(x_train[i]-cent[j])\n",
    "  G[i][j]= math.exp((-(dist)**2)/2*(sigma)**2)"
   ]
  },
  {
   "cell_type": "code",
   "execution_count": 48,
   "id": "6d4f88d3",
   "metadata": {},
   "outputs": [],
   "source": [
    "G_t=G.T\n",
    "GTG=np.dot(G_t,G)\n",
    "GTG_INV=np.linalg.inv(GTG)\n",
    "fac=np.dot(GTG_INV,G.T)\n",
    "W=np.dot(fac,y_train)"
   ]
  },
  {
   "cell_type": "code",
   "execution_count": 51,
   "id": "5fe13e77",
   "metadata": {},
   "outputs": [],
   "source": [
    "row= x_test.shape[0]\n",
    "column= K_cent\n",
    "G_test= np.empty((row,column), dtype= float)\n",
    "for i in range(row):\n",
    "    for j in range(column):\n",
    "        dist= np.linalg.norm(x_test[i]-cent[j])\n",
    "        G_test[i][j]= math.exp(-math.pow(dist,2)/math.pow(2*sigma,2))"
   ]
  },
  {
   "cell_type": "code",
   "execution_count": 53,
   "id": "70dd1cc8",
   "metadata": {},
   "outputs": [],
   "source": [
    "from sklearn.metrics import accuracy_score"
   ]
  },
  {
   "cell_type": "code",
   "execution_count": 57,
   "id": "cb2ed91c",
   "metadata": {},
   "outputs": [
    {
     "name": "stdout",
     "output_type": "stream",
     "text": [
      "0.329004329004329\n"
     ]
    }
   ],
   "source": [
    "prediction= np.dot(G_test,W)\n",
    "prediction= 0.5*(np.sign(prediction-0.5)+1)\n",
    "\n",
    "score= accuracy_score(prediction,y_test)\n",
    "print(score)"
   ]
  }
 ],
 "metadata": {
  "kernelspec": {
   "display_name": "Python 3 (ipykernel)",
   "language": "python",
   "name": "python3"
  },
  "language_info": {
   "codemirror_mode": {
    "name": "ipython",
    "version": 3
   },
   "file_extension": ".py",
   "mimetype": "text/x-python",
   "name": "python",
   "nbconvert_exporter": "python",
   "pygments_lexer": "ipython3",
   "version": "3.9.12"
  }
 },
 "nbformat": 4,
 "nbformat_minor": 5
}
