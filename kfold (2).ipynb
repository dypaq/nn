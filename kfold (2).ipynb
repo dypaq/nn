{
 "cells": [
  {
   "cell_type": "code",
   "execution_count": 21,
   "id": "597c309d",
   "metadata": {},
   "outputs": [],
   "source": [
    "#USING LEAVEONEOUT HERE "
   ]
  },
  {
   "cell_type": "code",
   "execution_count": 1,
   "id": "d2151501",
   "metadata": {
    "scrolled": true
   },
   "outputs": [
    {
     "name": "stderr",
     "output_type": "stream",
     "text": [
      "C:\\Users\\Qureshi\\anaconda3\\lib\\site-packages\\scipy\\__init__.py:146: UserWarning: A NumPy version >=1.16.5 and <1.23.0 is required for this version of SciPy (detected version 1.26.4\n",
      "  warnings.warn(f\"A NumPy version >={np_minversion} and <{np_maxversion}\"\n"
     ]
    }
   ],
   "source": [
    "import numpy as np \n",
    "\n",
    "import pandas as pd \n",
    "\n",
    "from sklearn.datasets import make_classification \n",
    "\n",
    "from sklearn.model_selection import KFold,cross_val_score \n",
    "\n",
    "from sklearn.linear_model import LinearRegression \n",
    "\n",
    "from matplotlib import pyplot "
   ]
  },
  {
   "cell_type": "code",
   "execution_count": 2,
   "id": "a281fbf3",
   "metadata": {},
   "outputs": [],
   "source": [
    "# create the dataset \n",
    "\n",
    "def get_dataset(n_samples=100): \n",
    "  X, y =make_classification(n_samples=n_samples,n_features=20, n_informative=15, n_redundant=5,random_state=1) \n",
    "  return X, y "
   ]
  },
  {
   "cell_type": "code",
   "execution_count": 3,
   "id": "15c9f1d7",
   "metadata": {},
   "outputs": [],
   "source": [
    "# retrieve the model to be evaluate \n",
    "\n",
    "def get_model(): \n",
    "\n",
    "  model = LogisticRegression() \n",
    "\n",
    "  return model "
   ]
  },
  {
   "cell_type": "code",
   "execution_count": 4,
   "id": "7cef3ebf",
   "metadata": {},
   "outputs": [],
   "source": [
    "def evaluate_model(dataset): \n",
    "\n",
    "  X, y = get_dataset() \n",
    "\n",
    "  model = get_model() \n",
    "\n",
    "  scores = cross_val_score(model, X, y, scoring='accuracy', cv=cv, n_jobs=-1) \n",
    "\n",
    "  print(mean(scores),scores.min(), scores.max()) "
   ]
  },
  {
   "cell_type": "code",
   "execution_count": 5,
   "id": "60c5a703",
   "metadata": {},
   "outputs": [],
   "source": [
    "from sklearn.model_selection import StratifiedKFold "
   ]
  },
  {
   "cell_type": "code",
   "execution_count": 13,
   "id": "362faf40",
   "metadata": {},
   "outputs": [],
   "source": [
    "import numpy as np\n",
    "\n",
    "def evaluate_model(cv):\n",
    "    X, y = get_dataset()\n",
    "\n",
    "    model = get_model()\n",
    "\n",
    "    scores = cross_val_score(model, X, y, scoring='accuracy', cv=cv, n_jobs=-1)\n",
    "\n",
    "    mean_accuracy = np.mean(scores)  # Mean accuracy of the scores\n",
    "    min_accuracy = scores.min()    # Minimum accuracy among the scores\n",
    "    max_accuracy = scores.max()    # Maximum accuracy among the scores\n",
    "\n",
    "    return mean_accuracy, min_accuracy, max_accuracy\n"
   ]
  },
  {
   "cell_type": "code",
   "execution_count": 7,
   "id": "0747342e",
   "metadata": {},
   "outputs": [],
   "source": [
    "# Calculate the ideal test condition using k-fold cross-validation \n",
    "\n",
    "def calculate_ideal_accuracy(): \n",
    "\n",
    "    k_fold = 25  # Adjust the number of folds as desired \n",
    "\n",
    "    cv = StratifiedKFold(n_splits=k_fold, shuffle=True, random_state=1) \n",
    "\n",
    "    mean_accuracy, _, _ = evaluate_model(cv) \n",
    "\n",
    "    return mean_accuracy "
   ]
  },
  {
   "cell_type": "code",
   "execution_count": 11,
   "id": "87bfb0db",
   "metadata": {},
   "outputs": [],
   "source": [
    "from sklearn.linear_model import LogisticRegression"
   ]
  },
  {
   "cell_type": "code",
   "execution_count": 14,
   "id": "3f123a95",
   "metadata": {},
   "outputs": [
    {
     "name": "stdout",
     "output_type": "stream",
     "text": [
      "Ideal (k-fold): 0.830\n"
     ]
    }
   ],
   "source": [
    "# Calculate the ideal test condition using k-fold cross-validation \n",
    "\n",
    "ideal = calculate_ideal_accuracy() \n",
    "\n",
    "print('Ideal (k-fold): %.3f' % ideal) \n",
    "\n",
    "# define folds to test \n",
    "\n",
    "folds = range(2,31) \n",
    "\n",
    "# record mean and min/max of each set of results \n",
    "\n",
    "means, mins, maxs = list(),list(),list() "
   ]
  },
  {
   "cell_type": "code",
   "execution_count": 15,
   "id": "a6c02851",
   "metadata": {},
   "outputs": [],
   "source": [
    "# define folds to test \n",
    "\n",
    "folds = range(2,31) \n",
    "\n",
    "# record mean and min/max of each set of results \n",
    "\n",
    "means, mins, maxs = list(),list(),list() "
   ]
  },
  {
   "cell_type": "code",
   "execution_count": 16,
   "id": "8b880a89",
   "metadata": {},
   "outputs": [
    {
     "name": "stdout",
     "output_type": "stream",
     "text": [
      "> folds=2, accuracy=0.740 (0.700,0.780)\n",
      "> folds=3, accuracy=0.749 (0.697,0.824)\n",
      "> folds=4, accuracy=0.790 (0.640,0.920)\n",
      "> folds=5, accuracy=0.810 (0.600,0.950)\n",
      "> folds=6, accuracy=0.820 (0.688,0.941)\n",
      "> folds=7, accuracy=0.799 (0.571,1.000)\n",
      "> folds=8, accuracy=0.811 (0.385,0.923)\n",
      "> folds=9, accuracy=0.829 (0.636,1.000)\n",
      "> folds=10, accuracy=0.850 (0.600,1.000)\n",
      "> folds=11, accuracy=0.829 (0.667,1.000)\n",
      "> folds=12, accuracy=0.785 (0.250,1.000)\n",
      "> folds=13, accuracy=0.839 (0.571,1.000)\n",
      "> folds=14, accuracy=0.807 (0.429,1.000)\n",
      "> folds=15, accuracy=0.821 (0.571,1.000)\n",
      "> folds=16, accuracy=0.827 (0.500,1.000)\n",
      "> folds=17, accuracy=0.816 (0.600,1.000)\n",
      "> folds=18, accuracy=0.831 (0.600,1.000)\n",
      "> folds=19, accuracy=0.826 (0.600,1.000)\n",
      "> folds=20, accuracy=0.830 (0.600,1.000)\n",
      "> folds=21, accuracy=0.814 (0.500,1.000)\n",
      "> folds=22, accuracy=0.820 (0.500,1.000)\n",
      "> folds=23, accuracy=0.802 (0.250,1.000)\n",
      "> folds=24, accuracy=0.804 (0.250,1.000)\n",
      "> folds=25, accuracy=0.810 (0.250,1.000)\n",
      "> folds=26, accuracy=0.804 (0.250,1.000)\n",
      "> folds=27, accuracy=0.818 (0.250,1.000)\n",
      "> folds=28, accuracy=0.821 (0.250,1.000)\n",
      "> folds=29, accuracy=0.822 (0.250,1.000)\n",
      "> folds=30, accuracy=0.822 (0.333,1.000)\n"
     ]
    }
   ],
   "source": [
    "# defining k that is fold \n",
    "\n",
    "for k in folds: \n",
    "\n",
    "  cv = KFold(n_splits=k, shuffle=True, random_state=1) \n",
    "\n",
    "  k_mean, k_min, k_max = evaluate_model(cv) \n",
    "\n",
    "  print('> folds=%d, accuracy=%.3f (%.3f,%.3f)' % (k, k_mean, k_min, k_max)) \n",
    "\n",
    "  means.append(k_mean) \n",
    "\n",
    "  mins.append(k_mean - k_min) \n",
    "\n",
    "  maxs.append(k_max - k_mean) "
   ]
  },
  {
   "cell_type": "code",
   "execution_count": 17,
   "id": "4db51eed",
   "metadata": {},
   "outputs": [],
   "source": [
    "#WITHOUT USING LEAVEONEOUT (BY STRATIFICATION) "
   ]
  },
  {
   "cell_type": "code",
   "execution_count": 20,
   "id": "f330dbd4",
   "metadata": {},
   "outputs": [
    {
     "name": "stdout",
     "output_type": "stream",
     "text": [
      "Ideal (k-fold): 0.830\n"
     ]
    }
   ],
   "source": [
    "from sklearn.model_selection import StratifiedKFold \n",
    "\n",
    "# evaluate the model using a given test condition \n",
    "\n",
    "def evaluate_model(cv): \n",
    "\n",
    "    # get the dataset \n",
    "\n",
    "    X, y = get_dataset() \n",
    "\n",
    "    # get the model \n",
    "\n",
    "    model = get_model() \n",
    "\n",
    "    # evaluate the model \n",
    "\n",
    "    scores = cross_val_score(model, X, y, scoring='accuracy', cv=cv, n_jobs=-1) \n",
    "    mean_accuracy = np.mean(scores)  # Mean accuracy of the scores\n",
    "    min_accuracy = scores.min()    # Minimum accuracy among the scores\n",
    "    max_accuracy = scores.max()    # Maximum accuracy among the scores\n",
    "\n",
    "    return mean_accuracy, min_accuracy, max_accuracy\n",
    "    \n",
    "# Calculate the ideal test condition using k-fold cross-validation \n",
    "\n",
    "def calculate_ideal_accuracy(): \n",
    "\n",
    "    k_fold = 25  # Adjust the number of folds as desired \n",
    "\n",
    "    cv = StratifiedKFold(n_splits=k_fold, shuffle=True, random_state=1) \n",
    "\n",
    "    mean_accuracy, _, _ = evaluate_model(cv) \n",
    "\n",
    "    return mean_accuracy \n",
    "\n",
    "# Calculate the ideal test condition using k-fold cross-validation \n",
    "\n",
    "ideal = calculate_ideal_accuracy() \n",
    "\n",
    "print('Ideal (k-fold): %.3f' % ideal) "
   ]
  }
 ],
 "metadata": {
  "kernelspec": {
   "display_name": "Python 3 (ipykernel)",
   "language": "python",
   "name": "python3"
  },
  "language_info": {
   "codemirror_mode": {
    "name": "ipython",
    "version": 3
   },
   "file_extension": ".py",
   "mimetype": "text/x-python",
   "name": "python",
   "nbconvert_exporter": "python",
   "pygments_lexer": "ipython3",
   "version": "3.9.12"
  }
 },
 "nbformat": 4,
 "nbformat_minor": 5
}
