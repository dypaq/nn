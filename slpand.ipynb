{
 "cells": [
  {
   "cell_type": "code",
   "execution_count": 1,
   "id": "c31514a9-e46b-4f94-8765-d139dd6105d1",
   "metadata": {},
   "outputs": [],
   "source": [
    "import numpy as np\n",
    "\n",
    "logical_and_dataset=np.array([[1, 1, 1],\n",
    " [1, 0, 0],\n",
    " [0, 1, 0],\n",
    " [0, 0, 0]])\n",
    "\n"
   ]
  },
  {
   "cell_type": "code",
   "execution_count": null,
   "id": "6d955cb1-9bdd-4441-a991-4babece9c794",
   "metadata": {},
   "outputs": [],
   "source": []
  },
  {
   "cell_type": "code",
   "execution_count": 3,
   "id": "8b07799b-c782-4867-aace-68a5620bdba9",
   "metadata": {},
   "outputs": [
    {
     "ename": "NameError",
     "evalue": "name 'predict' is not defined",
     "output_type": "error",
     "traceback": [
      "\u001b[1;31m---------------------------------------------------------------------------\u001b[0m",
      "\u001b[1;31mNameError\u001b[0m                                 Traceback (most recent call last)",
      "Cell \u001b[1;32mIn[3], line 15\u001b[0m\n\u001b[0;32m     12\u001b[0m         \u001b[38;5;28mprint\u001b[39m(\u001b[38;5;124mf\u001b[39m\u001b[38;5;124m\"\u001b[39m\u001b[38;5;124m>epoch =\u001b[39m\u001b[38;5;132;01m{\u001b[39;00mepoch\u001b[38;5;132;01m}\u001b[39;00m\u001b[38;5;124m, learning_rate=\u001b[39m\u001b[38;5;132;01m{\u001b[39;00mlearning_rate\u001b[38;5;132;01m}\u001b[39;00m\u001b[38;5;124m,MSE=\u001b[39m\u001b[38;5;132;01m{\u001b[39;00msum_err\u001b[38;5;132;01m}\u001b[39;00m\u001b[38;5;124m\"\u001b[39m)\n\u001b[0;32m     13\u001b[0m     \u001b[38;5;28;01mreturn\u001b[39;00m weights\n\u001b[1;32m---> 15\u001b[0m weights \u001b[38;5;241m=\u001b[39m \u001b[43mtraining_weights\u001b[49m\u001b[43m(\u001b[49m\u001b[43mlogical_and_dataset\u001b[49m\u001b[43m,\u001b[49m\u001b[43m \u001b[49m\u001b[43mlearning_rate\u001b[49m\u001b[38;5;241;43m=\u001b[39;49m\u001b[38;5;241;43m0.01\u001b[39;49m\u001b[43m,\u001b[49m\u001b[43m \u001b[49m\u001b[43mn_epoch\u001b[49m\u001b[38;5;241;43m=\u001b[39;49m\u001b[38;5;241;43m10\u001b[39;49m\u001b[43m)\u001b[49m\n\u001b[0;32m     16\u001b[0m \u001b[38;5;28mprint\u001b[39m(\u001b[38;5;124mf\u001b[39m\u001b[38;5;124m\"\u001b[39m\u001b[38;5;130;01m\\n\u001b[39;00m\u001b[38;5;124m Computed Bias : \u001b[39m\u001b[38;5;132;01m{\u001b[39;00m\u001b[38;5;28mround\u001b[39m(weights[\u001b[38;5;241m0\u001b[39m],\u001b[38;5;241m3\u001b[39m)\u001b[38;5;132;01m}\u001b[39;00m\u001b[38;5;124m \u001b[39m\u001b[38;5;130;01m\\n\u001b[39;00m\u001b[38;5;124m Computed Weights_i: \u001b[39m\u001b[38;5;132;01m{\u001b[39;00mweights[\u001b[38;5;241m1\u001b[39m:]\u001b[38;5;132;01m}\u001b[39;00m\u001b[38;5;124m \u001b[39m\u001b[38;5;130;01m\\n\u001b[39;00m\u001b[38;5;124m\"\u001b[39m)\n",
      "Cell \u001b[1;32mIn[3], line 6\u001b[0m, in \u001b[0;36mtraining_weights\u001b[1;34m(train_data, learning_rate, n_epoch)\u001b[0m\n\u001b[0;32m      4\u001b[0m sum_err\u001b[38;5;241m=\u001b[39m\u001b[38;5;241m0\u001b[39m\n\u001b[0;32m      5\u001b[0m \u001b[38;5;28;01mfor\u001b[39;00m row \u001b[38;5;129;01min\u001b[39;00m train_data:\n\u001b[1;32m----> 6\u001b[0m     prediction\u001b[38;5;241m=\u001b[39m\u001b[43mpredict\u001b[49m(row,weights)\n\u001b[0;32m      7\u001b[0m     err\u001b[38;5;241m=\u001b[39mrow[\u001b[38;5;241m-\u001b[39m\u001b[38;5;241m1\u001b[39m]\u001b[38;5;241m-\u001b[39mprediction\n\u001b[0;32m      8\u001b[0m     sum_err \u001b[38;5;241m+\u001b[39m\u001b[38;5;241m=\u001b[39merr\u001b[38;5;241m*\u001b[39m\u001b[38;5;241m*\u001b[39m\u001b[38;5;241m2\u001b[39m\n",
      "\u001b[1;31mNameError\u001b[0m: name 'predict' is not defined"
     ]
    }
   ],
   "source": [
    "def training_weights(train_data,learning_rate,n_epoch):\n",
    "    weights=[0 for i in range(len(train_data[0]))]\n",
    "    for epoch in range(n_epoch):\n",
    "        sum_err=0\n",
    "        for row in train_data:\n",
    "            prediction=predict(row,weights)\n",
    "            err=row[-1]-prediction\n",
    "            sum_err +=err**2\n",
    "            weights[0] += learning_rate*err\n",
    "            for i in range(len(row)-1):\n",
    "                weights[i+1] += learning_rate*err*row[i]\n",
    "        print(f\">epoch ={epoch}, learning_rate={learning_rate},MSE={sum_err}\")\n",
    "    return weights\n",
    "    \n",
    "weights = training_weights(logical_and_dataset, learning_rate=0.01, n_epoch=10)\n",
    "print(f\"\\n Computed Bias : {round(weights[0],3)} \\n Computed Weights_i: {weights[1:]} \\n\")\n"
   ]
  }
 ],
 "metadata": {
  "kernelspec": {
   "display_name": "Python 3 (ipykernel)",
   "language": "python",
   "name": "python3"
  },
  "language_info": {
   "codemirror_mode": {
    "name": "ipython",
    "version": 3
   },
   "file_extension": ".py",
   "mimetype": "text/x-python",
   "name": "python",
   "nbconvert_exporter": "python",
   "pygments_lexer": "ipython3",
   "version": "3.11.5"
  }
 },
 "nbformat": 4,
 "nbformat_minor": 5
}
