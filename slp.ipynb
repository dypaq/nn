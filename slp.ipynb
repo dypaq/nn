{
 "cells": [
  {
   "cell_type": "code",
   "execution_count": 1,
   "id": "29bf43cf-f647-47af-b689-fcfae3d3d31b",
   "metadata": {},
   "outputs": [
    {
     "name": "stdout",
     "output_type": "stream",
     "text": [
      "Dataset :\n",
      "[[ 2.7810836   2.550537    0.        ]\n",
      " [ 1.46548937  2.36212508  0.        ]\n",
      " [ 3.39656169  4.40029353  0.        ]\n",
      " [ 1.38807019  1.85022032  0.        ]\n",
      " [ 3.06407232  3.00530597  0.        ]\n",
      " [ 7.62753121  2.75926224  1.        ]\n",
      " [ 5.33244125  2.08862677  1.        ]\n",
      " [ 6.92259672  1.77106367  1.        ]\n",
      " [ 8.67541865 -0.24206865  1.        ]\n",
      " [ 7.67375647  3.50856301  1.        ]]\n"
     ]
    }
   ],
   "source": [
    "import pandas as pd\n",
    "df = pd.read_csv(\n",
    "'https://raw.githubusercontent.com/infiniaclub/NeuralNetworkDataset/main/sonar%20dataset.csv').values\n",
    "print((f\"Dataset :\\n{df}\"))\n"
   ]
  },
  {
   "cell_type": "code",
   "execution_count": 9,
   "id": "7b3d04f7-acc3-4434-a69e-5fd8a3e58da8",
   "metadata": {},
   "outputs": [
    {
     "name": "stdout",
     "output_type": "stream",
     "text": [
      "epoch 0 Lr :0.1 MSE 2.0\n",
      "epoch 1 Lr :0.1 MSE 1.0\n",
      "epoch 2 Lr :0.1 MSE 0.0\n",
      "epoch 3 Lr :0.1 MSE 0.0\n",
      "epoch 4 Lr :0.1 MSE 0.0\n",
      "epoch 5 Lr :0.1 MSE 0.0\n",
      "epoch 6 Lr :0.1 MSE 0.0\n",
      "epoch 7 Lr :0.1 MSE 0.0\n",
      "epoch 8 Lr :0.1 MSE 0.0\n",
      "epoch 9 Lr :0.1 MSE 0.0\n",
      "weights [0.20653640140000007, -0.23418117710000003] Bias -0.1\n"
     ]
    }
   ],
   "source": [
    "def predict(row,weights):\n",
    "    activation=weights[0]\n",
    "    for i in range(len(row)-1):\n",
    "        activation +=weights[i+1]*row[i]\n",
    "    return 1 if activation >=0 else 0\n",
    "\n",
    "def training(train_net,lr,ep):\n",
    "    weights=[0 for i in range(len(train_net[0]))]\n",
    "    for epoch in range(ep):\n",
    "        sum_err=0\n",
    "        for row in train_net:\n",
    "            prediction=predict(row,weights)\n",
    "            err=row[-1]-prediction\n",
    "            sum_err +=err**2\n",
    "            weights[0] +=lr*err\n",
    "            for i in range(len(row)-1):\n",
    "                weights[i+1]+=lr*err*row[i]\n",
    "        print(f\"epoch {epoch} Lr :{lr} MSE {sum_err}\")\n",
    "    return weights\n",
    "\n",
    "weights=training(df,lr=0.1,ep=10)\n",
    "print(f\"weights {weights[1:]} Bias {weights[0]}\")"
   ]
  },
  {
   "cell_type": "code",
   "execution_count": 10,
   "id": "678aff5f-33e6-4389-88db-4105b340dd86",
   "metadata": {},
   "outputs": [
    {
     "name": "stdout",
     "output_type": "stream",
     "text": [
      "Actual 0.0 Predicted : 0\n",
      "Actual 0.0 Predicted : 0\n",
      "Actual 0.0 Predicted : 0\n",
      "Actual 0.0 Predicted : 0\n",
      "Actual 0.0 Predicted : 0\n",
      "Actual 1.0 Predicted : 1\n",
      "Actual 1.0 Predicted : 1\n",
      "Actual 1.0 Predicted : 1\n",
      "Actual 1.0 Predicted : 1\n",
      "Actual 1.0 Predicted : 1\n",
      "1.0\n"
     ]
    }
   ],
   "source": [
    "cr=0\n",
    "for row in df:\n",
    "    prediction=predict(row,weights)\n",
    "    if row[-1]==prediction:\n",
    "        cr +=1\n",
    "    print(f\"Actual {row[-1]} Predicted : {prediction}\")\n",
    "\n",
    "acc=(cr/len(df))**100\n",
    "print(acc)"
   ]
  },
  {
   "cell_type": "code",
   "execution_count": null,
   "id": "5f7e6263-607a-4ad2-9d87-8b0aadfa962e",
   "metadata": {},
   "outputs": [],
   "source": []
  },
  {
   "cell_type": "code",
   "execution_count": null,
   "id": "f16c4cbc-336a-40c8-936f-b512d5843ec1",
   "metadata": {},
   "outputs": [],
   "source": []
  },
  {
   "cell_type": "code",
   "execution_count": null,
   "id": "719290c6-4cd3-4bea-84aa-307057f0e859",
   "metadata": {},
   "outputs": [],
   "source": []
  },
  {
   "cell_type": "code",
   "execution_count": null,
   "id": "62a19cad-14e8-4984-ad15-0d858119f691",
   "metadata": {},
   "outputs": [],
   "source": []
  },
  {
   "cell_type": "code",
   "execution_count": null,
   "id": "9cb8573f-941d-40fc-8836-ab84e0ae08cb",
   "metadata": {},
   "outputs": [],
   "source": []
  },
  {
   "cell_type": "code",
   "execution_count": null,
   "id": "31371ab9-b01e-451d-a0e7-95d9d13f97aa",
   "metadata": {},
   "outputs": [],
   "source": []
  },
  {
   "cell_type": "code",
   "execution_count": null,
   "id": "00612a0a-7a87-4791-b247-0e25d03f8f72",
   "metadata": {},
   "outputs": [],
   "source": []
  }
 ],
 "metadata": {
  "kernelspec": {
   "display_name": "Python 3 (ipykernel)",
   "language": "python",
   "name": "python3"
  },
  "language_info": {
   "codemirror_mode": {
    "name": "ipython",
    "version": 3
   },
   "file_extension": ".py",
   "mimetype": "text/x-python",
   "name": "python",
   "nbconvert_exporter": "python",
   "pygments_lexer": "ipython3",
   "version": "3.11.5"
  }
 },
 "nbformat": 4,
 "nbformat_minor": 5
}
