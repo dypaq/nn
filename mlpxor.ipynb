{
  "cells": [
    {
      "cell_type": "code",
      "execution_count": 9,
      "id": "c9991b18-c1f8-4e39-823e-a7ae6424f586",
      "metadata": {
        "id": "c9991b18-c1f8-4e39-823e-a7ae6424f586"
      },
      "outputs": [],
      "source": [
        "from random import random\n",
        "from random import seed\n",
        "from math import exp"
      ]
    },
    {
      "cell_type": "code",
      "execution_count": 10,
      "id": "2e1f72c0-7c83-4cc7-b5da-769d65b7320a",
      "metadata": {
        "colab": {
          "base_uri": "https://localhost:8080/"
        },
        "id": "2e1f72c0-7c83-4cc7-b5da-769d65b7320a",
        "outputId": "04c023ac-e5f3-4552-a51e-3862bc166f80"
      },
      "outputs": [
        {
          "output_type": "stream",
          "name": "stdout",
          "text": [
            "[{'weights': [0.13436424411240122, 0.8474337369372327, 0.763774618976614]}]\n",
            "[{'weights': [0.2550690257394217, 0.49543508709194095]}, {'weights': [0.4494910647887381, 0.651592972722763]}]\n"
          ]
        }
      ],
      "source": [
        "def initialized(n_inputs,n_hidden,n_outputs):\n",
        "    network=list()\n",
        "    hidden_layer=[{'weights':[random()for i in range(n_inputs+1)]}for i in range(n_hidden)]\n",
        "    network.append(hidden_layer)\n",
        "    output_layer=[{'weights':[random()for i in range(n_hidden+1)]}for i in range(n_outputs)]\n",
        "    network.append(output_layer)\n",
        "    return network\n",
        "\n",
        "seed(1)\n",
        "network=initialized(2,1,2)\n",
        "for layer in network:\n",
        "    print(layer)"
      ]
    },
    {
      "cell_type": "code",
      "execution_count": 11,
      "id": "cc40fd39-d9a4-40c0-a08a-b68d60921b66",
      "metadata": {
        "colab": {
          "base_uri": "https://localhost:8080/"
        },
        "id": "cc40fd39-d9a4-40c0-a08a-b68d60921b66",
        "outputId": "75b1273b-56af-41d0-df8c-c24a579df596"
      },
      "outputs": [
        {
          "output_type": "stream",
          "name": "stdout",
          "text": [
            "[0.6629970129852887, 0.7253160725279748]\n"
          ]
        }
      ],
      "source": [
        "def activate(weights,inputs):\n",
        "    activation=weights[-1]\n",
        "    for i in range(len(weights)-1):\n",
        "        activation +=weights[i]*inputs[i]\n",
        "    return activation\n",
        "\n",
        "def transfer(activation):\n",
        "    return 1/(1+exp(-activation))\n",
        "\n",
        "\n",
        "def forward(network,row):\n",
        "    inputs=row\n",
        "    for layer in network:\n",
        "        new_input=[]\n",
        "        for neuron in layer:\n",
        "            activation=activate(neuron['weights'],inputs)\n",
        "            neuron['outputs']=transfer(activation)\n",
        "            new_input.append(neuron['outputs'])\n",
        "        inputs=new_input\n",
        "    return inputs\n",
        "\n",
        "network=[[{'weights': [0.13436424411240122, 0.8474337369372327, 0.763774618976614]}],\n",
        "[{'weights': [0.2550690257394217, 0.49543508709194095]}, {'weights': [0.4494910647887381, 0.651592972722763]}]]\n",
        "row=[1,0,None]\n",
        "outputs=forward(network,row)\n",
        "print(outputs)"
      ]
    },
    {
      "cell_type": "code",
      "source": [
        "def tranfer_deri(outputs):\n",
        "    return outputs*(1-outputs)\n",
        "\n",
        "def backward(network,expected):\n",
        "    for i in reversed(range(len(network))):\n",
        "        layer=network[i]\n",
        "        errors=list()\n",
        "        if i != len(network)-1:\n",
        "            for j in range(len(layer)):\n",
        "                error=0\n",
        "                for neuron in network[i+1]:\n",
        "                    error +=(neuron['weights'][j]*neuron['delta'])\n",
        "                errors.append(error)\n",
        "        else:\n",
        "            for j in range(len(layer)):\n",
        "                neuron=layer[j]\n",
        "                errors.append(neuron['outputs']-expected[j])\n",
        "        for j in range(len(layer)):\n",
        "            neuron=layer[j]\n",
        "            neuron['delta']=errors[j]*tranfer_deri(neuron['outputs'])\n",
        "\n",
        "network=[[{'outputs':0.71,'weights': [0.13436424411240122, 0.8474337369372327, 0.763774618976614]}],\n",
        "[{'outputs':0.65,'weights': [0.2550690257394217, 0.49543508709194095]}, {'outputs':0.62,'weights': [0.4494910647887381, 0.651592972722763]}]]\n",
        "expected=[0,1]\n",
        "backward(network,expected)\n",
        "for layer in network:\n",
        "    print(layer)"
      ],
      "metadata": {
        "colab": {
          "base_uri": "https://localhost:8080/"
        },
        "id": "5rf7qJxxhgIf",
        "outputId": "958cc971-c7bd-4877-f46f-3a1c29bd766c"
      },
      "id": "5rf7qJxxhgIf",
      "execution_count": 12,
      "outputs": [
        {
          "output_type": "stream",
          "name": "stdout",
          "text": [
            "[{'outputs': 0.71, 'weights': [0.13436424411240122, 0.8474337369372327, 0.763774618976614], 'delta': -0.0005196306262542487}]\n",
            "[{'outputs': 0.65, 'weights': [0.2550690257394217, 0.49543508709194095], 'delta': 0.14787499999999998}, {'outputs': 0.62, 'weights': [0.4494910647887381, 0.651592972722763], 'delta': -0.089528}]\n"
          ]
        }
      ]
    },
    {
      "cell_type": "code",
      "source": [
        "def update(network,row,lr):\n",
        "    for i in range(len(network)):\n",
        "        inputs=row[:-1]\n",
        "        if i != 0:\n",
        "            inputs=[neuron['outputs']for neuron in network[i-1]]\n",
        "        for neuron in network[i]:\n",
        "            for j in range(len(inputs)):\n",
        "                neuron['weights'][j] -=lr*neuron['delta']*inputs[j]\n",
        "            neuron['weights'][-1] -=lr*neuron['delta']\n",
        "\n",
        "def train_network(network,train,lr,ep,n_outputs):\n",
        "    for epoch in range(ep):\n",
        "        sum_error=0\n",
        "        for row in train:\n",
        "            outputs=forward(network,row)\n",
        "            expected=[0 for i in range(n_outputs)]\n",
        "            expected[row[-1]]=1\n",
        "            sum_error += sum([(expected[i]-outputs[i])**2 for i in range(len(expected))])\n",
        "            backward(network,expected)\n",
        "            update(network,row,lr)\n",
        "        print(f\"epoch {epoch} lr {lr} Mse :{sum_error}\")\n",
        "\n",
        "\n",
        "# Test training backprop algorithm\n",
        "seed(1)\n",
        "dataset = [[0, 0, 0], [0, 1, 1], [1, 0, 1], [1, 1, 0]]\n",
        "n_inputs = len(dataset[0]) - 1\n",
        "n_outputs = len(set([row[-1] for row in dataset]))\n",
        "network = initialized(n_inputs, 2, n_outputs)\n",
        "train_network(network, dataset, 0.5, 3, n_outputs) # 3 ki jagha 300000 daalna\n",
        "output_string = \"\"\n",
        "for layer in network:\n",
        "  for neuron in layer:\n",
        "      output_string += str(neuron) + \"\\n\"\n",
        "print(output_string)\n"
      ],
      "metadata": {
        "colab": {
          "base_uri": "https://localhost:8080/"
        },
        "id": "aDvR-d5HiSa_",
        "outputId": "1aa813e2-f0df-4c9e-e213-f56872acfc2d"
      },
      "id": "aDvR-d5HiSa_",
      "execution_count": 21,
      "outputs": [
        {
          "output_type": "stream",
          "name": "stdout",
          "text": [
            "epoch 0 lr 0.5 Mse :2.521079382881022\n",
            "epoch 1 lr 0.5 Mse :2.4093799056984917\n",
            "epoch 2 lr 0.5 Mse :2.32145670739353\n",
            "{'weights': [0.1153246121879374, 0.8354470284381753, 0.7391084055828353], 'outputs': 0.842993624934674, 'delta': -0.006138040417544435}\n",
            "{'weights': [0.21815242923559697, 0.45934085194038776, 0.3716239403048077], 'outputs': 0.7439943314137906, 'delta': 0.011811071404330655}\n",
            "{'weights': [0.46898606192670256, 0.6264198253517977, -0.1428812253801669], 'outputs': 0.652320642100105, 'delta': -0.07885312973026624}\n",
            "{'weights': [-0.14357367575969715, 0.6824066438871634, 0.20487654877540173], 'outputs': 0.6811424167715947, 'delta': 0.1479355674521029}\n",
            "\n"
          ]
        }
      ]
    },
    {
      "cell_type": "code",
      "source": [
        "def predict(network,row):\n",
        "    outputs=forward(network,row)\n",
        "    return outputs.index(max(outputs))\n",
        "\n",
        "for row in dataset:\n",
        "    prediction=predict(network,row)\n",
        "    print(f\"Actual {row[-1]} Predicted {prediction}\")"
      ],
      "metadata": {
        "colab": {
          "base_uri": "https://localhost:8080/"
        },
        "id": "3jMnFz3vjHlk",
        "outputId": "e37dcd7f-923e-4730-f276-25fa74c941fa"
      },
      "id": "3jMnFz3vjHlk",
      "execution_count": 22,
      "outputs": [
        {
          "output_type": "stream",
          "name": "stdout",
          "text": [
            "Actual 0 Predicted 0\n",
            "Actual 1 Predicted 0\n",
            "Actual 1 Predicted 0\n",
            "Actual 0 Predicted 0\n"
          ]
        }
      ]
    }
  ],
  "metadata": {
    "kernelspec": {
      "display_name": "Python 3 (ipykernel)",
      "language": "python",
      "name": "python3"
    },
    "language_info": {
      "codemirror_mode": {
        "name": "ipython",
        "version": 3
      },
      "file_extension": ".py",
      "mimetype": "text/x-python",
      "name": "python",
      "nbconvert_exporter": "python",
      "pygments_lexer": "ipython3",
      "version": "3.11.5"
    },
    "colab": {
      "provenance": []
    }
  },
  "nbformat": 4,
  "nbformat_minor": 5
}
