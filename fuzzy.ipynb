{
 "cells": [
  {
   "cell_type": "code",
   "execution_count": 2,
   "id": "ca6bb4d6-e2dc-44cc-b66f-255d12c83924",
   "metadata": {},
   "outputs": [],
   "source": [
    "def triangular(x, l, c, r):\n",
    "    if l < x <= c:\n",
    "        return (x - l) / (c - l)\n",
    "    elif c < x <= r:\n",
    "        return (r - x) / (r - c)\n",
    "    else:\n",
    "        return 0"
   ]
  },
  {
   "cell_type": "code",
   "execution_count": 3,
   "id": "e1e5c63c-d2c7-4989-bf32-c23039b615d5",
   "metadata": {},
   "outputs": [],
   "source": [
    "temperature_categories = {\n",
    "    \"low\": [-5, 10, 25],\n",
    "    \"below average\": [15, 30, 45],\n",
    "    \"average\": [40, 50, 60],\n",
    "    \"above average\": [55, 70, 85],\n",
    "    \"high\": [75, 90, 105]\n",
    "    }\n",
    "\n",
    "# Define pressure categories and their values\n",
    "pressure_categories = {\n",
    "    \"low\": [0.25, 1, 1.75],\n",
    "    \"below average\": [1.25, 2, 2.75],\n",
    "    \"average\": [2, 3, 4],\n",
    "    \"above average\": [3.25, 4, 4.75],\n",
    "    \"high\": [4.25, 4.625, 5] }\n",
    "\n",
    "# Define heating power categories and their values\n",
    "heating_power_categories = {\n",
    "    \"low\": [0.25, 1, 1.75],\n",
    "    \"below average\": [1.25, 2, 2.75],\n",
    "    \"average\": [2, 3, 4],\n",
    "    \"above average\": [3.25, 4, 4.75],\n",
    "    \"high\": [4.25, 5, 5.75] }\n",
    "\n",
    "# Define valve opening categories and their values\n",
    "valve_opening_categories = {\n",
    "    \"low\": [0.25, 1, 1.75],\n",
    "    \"below average\": [1.25, 2, 2.75],\n",
    "    \"average\": [2, 3, 4],\n",
    "    \"above average\": [3.25, 4, 4.75],\n",
    "    \"high\": [4.25, 5, 5.75]}"
   ]
  },
  {
   "cell_type": "code",
   "execution_count": 4,
   "id": "215711df-125f-4b7b-9040-4c7e4d0e7698",
   "metadata": {},
   "outputs": [],
   "source": [
    "# Rule 1:\n",
    "t_category_rule1 = \"below average\"\n",
    "p_category_rule1 = \"below average\"\n",
    "heating_power_rule1 = \"above average\"\n",
    "valve_opening_rule1 = \"below average\"\n",
    "# Rule 2:\n",
    "t_category_rule2 = \"low\"\n",
    "p_category_rule2 = \"low\"\n",
    "heating_power_rule2 = \"high\"\n",
    "valve_opening_rule2 = \"low\"\n"
   ]
  },
  {
   "cell_type": "code",
   "execution_count": 10,
   "id": "66ed6f0b-5728-44a7-8350-1efa8ceb61e7",
   "metadata": {
    "scrolled": true
   },
   "outputs": [
    {
     "name": "stdin",
     "output_type": "stream",
     "text": [
      "Enter the temperature value:  7\n",
      "Enter the pressure value:  7\n"
     ]
    },
    {
     "name": "stdout",
     "output_type": "stream",
     "text": [
      "Membership value for temperature for Rule 1: 0\n",
      "Membership value for pressure for Rule 1: 0\n",
      "z1: 0\n",
      "Membership value for temperature for Rule 2: 0.8\n",
      "Membership value for pressure for Rule 2: 0\n",
      "z2: 0\n"
     ]
    },
    {
     "ename": "ZeroDivisionError",
     "evalue": "float division by zero",
     "output_type": "error",
     "traceback": [
      "\u001b[1;31m---------------------------------------------------------------------------\u001b[0m",
      "\u001b[1;31mZeroDivisionError\u001b[0m                         Traceback (most recent call last)",
      "Cell \u001b[1;32mIn[10], line 36\u001b[0m\n\u001b[0;32m     33\u001b[0m \u001b[38;5;28mprint\u001b[39m(\u001b[38;5;124mf\u001b[39m\u001b[38;5;124m\"\u001b[39m\u001b[38;5;124mz2: \u001b[39m\u001b[38;5;132;01m{\u001b[39;00mz2\u001b[38;5;132;01m}\u001b[39;00m\u001b[38;5;124m\"\u001b[39m)\n\u001b[0;32m     35\u001b[0m \u001b[38;5;66;03m# Calculate the defuzzified value for heating power\u001b[39;00m\n\u001b[1;32m---> 36\u001b[0m defuzz_heating_power \u001b[38;5;241m=\u001b[39m \u001b[43m(\u001b[49m\n\u001b[0;32m     37\u001b[0m \u001b[43m(\u001b[49m\u001b[43mz1\u001b[49m\u001b[43m \u001b[49m\u001b[38;5;241;43m*\u001b[39;49m\u001b[43m \u001b[49m\u001b[38;5;241;43m0.5\u001b[39;49m\u001b[43m \u001b[49m\u001b[38;5;241;43m*\u001b[39;49m\u001b[43m \u001b[49m\u001b[43m(\u001b[49m\u001b[43mheating_power_categories\u001b[49m\u001b[43m[\u001b[49m\u001b[43mheating_power_rule1\u001b[49m\u001b[43m]\u001b[49m\u001b[43m[\u001b[49m\u001b[38;5;241;43m2\u001b[39;49m\u001b[43m]\u001b[49m\u001b[43m \u001b[49m\u001b[38;5;241;43m-\u001b[39;49m\u001b[43m \u001b[49m\u001b[43mheating_power_categories\u001b[49m\u001b[43m[\u001b[49m\u001b[43mheating_power_rule1\u001b[49m\u001b[43m]\u001b[49m\u001b[43m[\u001b[49m\u001b[38;5;241;43m0\u001b[39;49m\u001b[43m]\u001b[49m\u001b[43m)\u001b[49m\u001b[43m \u001b[49m\u001b[38;5;241;43m*\u001b[39;49m\n\u001b[0;32m     38\u001b[0m \u001b[43mheating_power_categories\u001b[49m\u001b[43m[\u001b[49m\u001b[43mheating_power_rule1\u001b[49m\u001b[43m]\u001b[49m\u001b[43m[\u001b[49m\u001b[38;5;241;43m1\u001b[39;49m\u001b[43m]\u001b[49m\u001b[43m)\u001b[49m\u001b[43m \u001b[49m\u001b[38;5;241;43m+\u001b[39;49m\n\u001b[0;32m     39\u001b[0m \u001b[43m(\u001b[49m\u001b[43mz2\u001b[49m\u001b[43m \u001b[49m\u001b[38;5;241;43m*\u001b[39;49m\u001b[43m \u001b[49m\u001b[38;5;241;43m0.5\u001b[39;49m\u001b[43m \u001b[49m\u001b[38;5;241;43m*\u001b[39;49m\u001b[43m \u001b[49m\u001b[43m(\u001b[49m\u001b[43mheating_power_categories\u001b[49m\u001b[43m[\u001b[49m\u001b[43mheating_power_rule2\u001b[49m\u001b[43m]\u001b[49m\u001b[43m[\u001b[49m\u001b[38;5;241;43m2\u001b[39;49m\u001b[43m]\u001b[49m\u001b[43m \u001b[49m\u001b[38;5;241;43m-\u001b[39;49m\u001b[43m \u001b[49m\u001b[43mheating_power_categories\u001b[49m\u001b[43m[\u001b[49m\u001b[43mheating_power_rule2\u001b[49m\u001b[43m]\u001b[49m\u001b[43m[\u001b[49m\u001b[38;5;241;43m0\u001b[39;49m\u001b[43m]\u001b[49m\u001b[43m)\u001b[49m\u001b[43m \u001b[49m\u001b[38;5;241;43m*\u001b[39;49m\n\u001b[0;32m     40\u001b[0m \u001b[43mheating_power_categories\u001b[49m\u001b[43m[\u001b[49m\u001b[43mheating_power_rule2\u001b[49m\u001b[43m]\u001b[49m\u001b[43m[\u001b[49m\u001b[38;5;241;43m1\u001b[39;49m\u001b[43m]\u001b[49m\u001b[43m)\u001b[49m\n\u001b[0;32m     41\u001b[0m \u001b[43m)\u001b[49m\u001b[43m \u001b[49m\u001b[38;5;241;43m/\u001b[39;49m\u001b[43m \u001b[49m\u001b[43m(\u001b[49m\n\u001b[0;32m     42\u001b[0m \u001b[43m(\u001b[49m\u001b[43mz1\u001b[49m\u001b[43m \u001b[49m\u001b[38;5;241;43m*\u001b[39;49m\u001b[43m \u001b[49m\u001b[38;5;241;43m0.5\u001b[39;49m\u001b[43m \u001b[49m\u001b[38;5;241;43m*\u001b[39;49m\u001b[43m \u001b[49m\u001b[43m(\u001b[49m\u001b[43mheating_power_categories\u001b[49m\u001b[43m[\u001b[49m\u001b[43mheating_power_rule1\u001b[49m\u001b[43m]\u001b[49m\u001b[43m[\u001b[49m\u001b[38;5;241;43m2\u001b[39;49m\u001b[43m]\u001b[49m\u001b[43m \u001b[49m\u001b[38;5;241;43m-\u001b[39;49m\u001b[43m \u001b[49m\u001b[43mheating_power_categories\u001b[49m\u001b[43m[\u001b[49m\u001b[43mheating_power_rule1\u001b[49m\u001b[43m]\u001b[49m\u001b[43m[\u001b[49m\u001b[38;5;241;43m0\u001b[39;49m\u001b[43m]\u001b[49m\u001b[43m)\u001b[49m\u001b[43m)\u001b[49m\u001b[43m \u001b[49m\u001b[38;5;241;43m+\u001b[39;49m\n\u001b[0;32m     43\u001b[0m \u001b[43m(\u001b[49m\u001b[43mz2\u001b[49m\u001b[43m \u001b[49m\u001b[38;5;241;43m*\u001b[39;49m\u001b[43m \u001b[49m\u001b[38;5;241;43m0.5\u001b[39;49m\u001b[43m \u001b[49m\u001b[38;5;241;43m*\u001b[39;49m\u001b[43m \u001b[49m\u001b[43m(\u001b[49m\u001b[43mheating_power_categories\u001b[49m\u001b[43m[\u001b[49m\u001b[43mheating_power_rule2\u001b[49m\u001b[43m]\u001b[49m\u001b[43m[\u001b[49m\u001b[38;5;241;43m2\u001b[39;49m\u001b[43m]\u001b[49m\u001b[43m \u001b[49m\u001b[38;5;241;43m-\u001b[39;49m\u001b[43m \u001b[49m\u001b[43mheating_power_categories\u001b[49m\u001b[43m[\u001b[49m\u001b[43mheating_power_rule2\u001b[49m\u001b[43m]\u001b[49m\u001b[43m[\u001b[49m\u001b[38;5;241;43m0\u001b[39;49m\u001b[43m]\u001b[49m\u001b[43m)\u001b[49m\u001b[43m)\u001b[49m\n\u001b[0;32m     44\u001b[0m \u001b[43m)\u001b[49m\n\u001b[0;32m     46\u001b[0m \u001b[38;5;66;03m# Calculate the defuzzified value for valve opening\u001b[39;00m\n\u001b[0;32m     47\u001b[0m defuzz_valve_opening \u001b[38;5;241m=\u001b[39m (\n\u001b[0;32m     48\u001b[0m (z1 \u001b[38;5;241m*\u001b[39m \u001b[38;5;241m0.5\u001b[39m \u001b[38;5;241m*\u001b[39m (valve_opening_categories[valve_opening_rule1][\u001b[38;5;241m2\u001b[39m] \u001b[38;5;241m-\u001b[39m valve_opening_categories[valve_opening_rule1][\u001b[38;5;241m0\u001b[39m]) \u001b[38;5;241m*\u001b[39m\n\u001b[0;32m     49\u001b[0m (valve_opening_categories[valve_opening_rule1][\u001b[38;5;241m1\u001b[39m])) \u001b[38;5;241m+\u001b[39m\n\u001b[1;32m   (...)\u001b[0m\n\u001b[0;32m     54\u001b[0m (z2 \u001b[38;5;241m*\u001b[39m \u001b[38;5;241m0.5\u001b[39m \u001b[38;5;241m*\u001b[39m (valve_opening_categories[valve_opening_rule2][\u001b[38;5;241m2\u001b[39m] \u001b[38;5;241m-\u001b[39m valve_opening_categories[valve_opening_rule2][\u001b[38;5;241m0\u001b[39m]))\n\u001b[0;32m     55\u001b[0m )\n",
      "\u001b[1;31mZeroDivisionError\u001b[0m: float division by zero"
     ]
    }
   ],
   "source": [
    "# Input values for temperature and pressure\n",
    "t = float(input(\"Enter the temperature value: \"))\n",
    "p = float(input(\"Enter the pressure value: \"))\n",
    "\n",
    "# Fetching values for temperature and pressure categories for Rule 1\n",
    "t_values_rule1 = temperature_categories.get(t_category_rule1)\n",
    "p_values_rule1 = pressure_categories.get(p_category_rule1)\n",
    "\n",
    "\n",
    "# Calculate membership values for temperature and pressure for Rule 1\n",
    "temperature_membership_rule1 = triangular(t, *t_values_rule1)\n",
    "pressure_membership_rule1 = triangular(p, *p_values_rule1)\n",
    "\n",
    "\n",
    "# Calculate minimum membership value for Rule 1\n",
    "z1 = min(temperature_membership_rule1, pressure_membership_rule1)\n",
    "print(f\"Membership value for temperature for Rule 1: {temperature_membership_rule1}\")\n",
    "print(f\"Membership value for pressure for Rule 1: {pressure_membership_rule1}\")\n",
    "print(f\"z1: {z1}\")\n",
    "\n",
    "# Fetching values for temperature and pressure categories for Rule 2\n",
    "t_values_rule2 = temperature_categories.get(t_category_rule2)\n",
    "p_values_rule2 = pressure_categories.get(p_category_rule2)\n",
    "\n",
    "# Calculate membership values for temperature and pressure for Rule 2\n",
    "temperature_membership_rule2 = triangular(t, *t_values_rule2)\n",
    "pressure_membership_rule2 = triangular(p, *p_values_rule2)\n",
    "\n",
    "# Calculate minimum membership value for Rule 2\n",
    "z2 = min(temperature_membership_rule2, pressure_membership_rule2)\n",
    "print(f\"Membership value for temperature for Rule 2: {temperature_membership_rule2}\")\n",
    "print(f\"Membership value for pressure for Rule 2: {pressure_membership_rule2}\")\n",
    "print(f\"z2: {z2}\")\n",
    "\n",
    "# Calculate the defuzzified value for heating power\n",
    "defuzz_heating_power = (\n",
    "(z1 * 0.5 * (heating_power_categories[heating_power_rule1][2] - heating_power_categories[heating_power_rule1][0]) *\n",
    "heating_power_categories[heating_power_rule1][1]) +\n",
    "(z2 * 0.5 * (heating_power_categories[heating_power_rule2][2] - heating_power_categories[heating_power_rule2][0]) *\n",
    "heating_power_categories[heating_power_rule2][1])\n",
    ") / (\n",
    "(z1 * 0.5 * (heating_power_categories[heating_power_rule1][2] - heating_power_categories[heating_power_rule1][0])) +\n",
    "(z2 * 0.5 * (heating_power_categories[heating_power_rule2][2] - heating_power_categories[heating_power_rule2][0]))\n",
    ")\n",
    "\n",
    "# Calculate the defuzzified value for valve opening\n",
    "defuzz_valve_opening = (\n",
    "(z1 * 0.5 * (valve_opening_categories[valve_opening_rule1][2] - valve_opening_categories[valve_opening_rule1][0]) *\n",
    "(valve_opening_categories[valve_opening_rule1][1])) +\n",
    "(z2 * 0.5 * (valve_opening_categories[valve_opening_rule2][2] - valve_opening_categories[valve_opening_rule2][0]) *\n",
    "(valve_opening_categories[valve_opening_rule2][1] ))\n",
    ") / (\n",
    "(z1 * 0.5 * (valve_opening_categories[valve_opening_rule1][2] - valve_opening_categories[valve_opening_rule1][0])) +\n",
    "(z2 * 0.5 * (valve_opening_categories[valve_opening_rule2][2] - valve_opening_categories[valve_opening_rule2][0]))\n",
    ")\n",
    "print(f\"Defuzzified value for valve opening: {defuzz_valve_opening}\")\n",
    "\n"
   ]
  },
  {
   "cell_type": "code",
   "execution_count": null,
   "id": "c9376249-208e-486e-9269-cd39cb3110cc",
   "metadata": {},
   "outputs": [],
   "source": []
  }
 ],
 "metadata": {
  "kernelspec": {
   "display_name": "Python 3 (ipykernel)",
   "language": "python",
   "name": "python3"
  },
  "language_info": {
   "codemirror_mode": {
    "name": "ipython",
    "version": 3
   },
   "file_extension": ".py",
   "mimetype": "text/x-python",
   "name": "python",
   "nbconvert_exporter": "python",
   "pygments_lexer": "ipython3",
   "version": "3.11.5"
  }
 },
 "nbformat": 4,
 "nbformat_minor": 5
}
